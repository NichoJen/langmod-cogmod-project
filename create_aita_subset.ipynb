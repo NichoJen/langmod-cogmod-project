{
 "cells": [
  {
   "cell_type": "code",
   "execution_count": 1,
   "outputs": [],
   "source": [
    "import pandas as pd\n",
    "import json"
   ],
   "metadata": {
    "collapsed": false,
    "ExecuteTime": {
     "end_time": "2024-04-02T12:20:24.047336600Z",
     "start_time": "2024-04-02T12:20:23.014891200Z"
    }
   }
  },
  {
   "cell_type": "markdown",
   "source": [
    "## Subset creation\n",
    "The entire AITA dataset is far too large for this project as we only want to use a maximum of 50 prompts. As such we need create subset. Ideally our subset should contain an even distribution of labels and the examples should be of high quality.\n",
    "However, first we need load the dataset. I have already downloaded the dataset but instructions for how to get it are provided [here](https://github.com/iterative/aita_dataset)."
   ],
   "metadata": {
    "collapsed": false
   }
  },
  {
   "cell_type": "code",
   "execution_count": 2,
   "outputs": [
    {
     "data": {
      "text/plain": "       id     timestamp                                              title  \\\n0  1ytxov  1.393279e+09  [AITA] I wrote an explanation in TIL and came ...   \n1  1yu29c  1.393281e+09               [AITA] Threw my parent's donuts away   \n2  1yu8hi  1.393285e+09        I told a goth girl she looked like a clown.   \n3  1yuc78  1.393287e+09  [AItA]: Argument I had with another redditor i...   \n4  1yueqb  1.393288e+09  [AITA] I let my story get a little long and bo...   \n\n                                                body        edited  \\\n0  [Here is the post in question](http://www.redd...         False   \n1  My parents are diabetic, morbidly obese, and a...  1393290576.0   \n2                                        I was four.         False   \n3  http://www.reddit.com/r/HIMYM/comments/1vvfkq/...  1393286962.0   \n4                                                NaN         False   \n\n           verdict  score  num_comments  is_asshole  \n0          asshole     52          13.0           1  \n1          asshole    140          27.0           1  \n2  not the asshole     74          15.0           0  \n3   everyone sucks     22           3.0           1  \n4  not the asshole      6           4.0           0  ",
      "text/html": "<div>\n<style scoped>\n    .dataframe tbody tr th:only-of-type {\n        vertical-align: middle;\n    }\n\n    .dataframe tbody tr th {\n        vertical-align: top;\n    }\n\n    .dataframe thead th {\n        text-align: right;\n    }\n</style>\n<table border=\"1\" class=\"dataframe\">\n  <thead>\n    <tr style=\"text-align: right;\">\n      <th></th>\n      <th>id</th>\n      <th>timestamp</th>\n      <th>title</th>\n      <th>body</th>\n      <th>edited</th>\n      <th>verdict</th>\n      <th>score</th>\n      <th>num_comments</th>\n      <th>is_asshole</th>\n    </tr>\n  </thead>\n  <tbody>\n    <tr>\n      <th>0</th>\n      <td>1ytxov</td>\n      <td>1.393279e+09</td>\n      <td>[AITA] I wrote an explanation in TIL and came ...</td>\n      <td>[Here is the post in question](http://www.redd...</td>\n      <td>False</td>\n      <td>asshole</td>\n      <td>52</td>\n      <td>13.0</td>\n      <td>1</td>\n    </tr>\n    <tr>\n      <th>1</th>\n      <td>1yu29c</td>\n      <td>1.393281e+09</td>\n      <td>[AITA] Threw my parent's donuts away</td>\n      <td>My parents are diabetic, morbidly obese, and a...</td>\n      <td>1393290576.0</td>\n      <td>asshole</td>\n      <td>140</td>\n      <td>27.0</td>\n      <td>1</td>\n    </tr>\n    <tr>\n      <th>2</th>\n      <td>1yu8hi</td>\n      <td>1.393285e+09</td>\n      <td>I told a goth girl she looked like a clown.</td>\n      <td>I was four.</td>\n      <td>False</td>\n      <td>not the asshole</td>\n      <td>74</td>\n      <td>15.0</td>\n      <td>0</td>\n    </tr>\n    <tr>\n      <th>3</th>\n      <td>1yuc78</td>\n      <td>1.393287e+09</td>\n      <td>[AItA]: Argument I had with another redditor i...</td>\n      <td>http://www.reddit.com/r/HIMYM/comments/1vvfkq/...</td>\n      <td>1393286962.0</td>\n      <td>everyone sucks</td>\n      <td>22</td>\n      <td>3.0</td>\n      <td>1</td>\n    </tr>\n    <tr>\n      <th>4</th>\n      <td>1yueqb</td>\n      <td>1.393288e+09</td>\n      <td>[AITA] I let my story get a little long and bo...</td>\n      <td>NaN</td>\n      <td>False</td>\n      <td>not the asshole</td>\n      <td>6</td>\n      <td>4.0</td>\n      <td>0</td>\n    </tr>\n  </tbody>\n</table>\n</div>"
     },
     "execution_count": 2,
     "metadata": {},
     "output_type": "execute_result"
    }
   ],
   "source": [
    "# load dataset\n",
    "dataset_path = \"../aita/aita_clean.csv\"\n",
    "aita_df = pd.read_csv(dataset_path)\n",
    "aita_df.head()"
   ],
   "metadata": {
    "collapsed": false,
    "ExecuteTime": {
     "end_time": "2024-03-28T17:21:57.152480300Z",
     "start_time": "2024-03-28T17:21:53.204821200Z"
    }
   }
  },
  {
   "cell_type": "code",
   "execution_count": 3,
   "outputs": [
    {
     "name": "stdout",
     "output_type": "stream",
     "text": [
      "[Here is the post in question](http://www.reddit.com/r/todayilearned/comments/1y40m9/til_a_circle_of_infinite_circumference_is_a/cfhhajs?context=3)\n",
      "\n",
      "It seems like I came off as an asshole. What can I do in the future to avoid this? I thought I was just randomly explaining something, which seems common on Reddit.\n",
      "\n",
      "I definitely shouldn't have said \"Sorry for trying to help\" - That was pretty immature and rude. \n",
      "\n",
      "Am I the asshole here?\n",
      "\n",
      "I wrote as little as possible to skew perspective as little as possible.\n"
     ]
    }
   ],
   "source": [
    "print(aita_df.body[0])"
   ],
   "metadata": {
    "collapsed": false,
    "ExecuteTime": {
     "end_time": "2024-03-28T17:21:57.153512800Z",
     "start_time": "2024-03-28T17:21:57.153512800Z"
    }
   }
  },
  {
   "cell_type": "markdown",
   "source": [
    "## Getting high quality examples\n",
    "Reddit uses a [scoring system](https://www.reddit.com/wiki/faq/#wiki_how_is_a_submission.27s_score_determined.3F) for post whereby the score is determined by subtracting the number of downvotes from the number of upvotes. These were collected for the AITA dataset, so we will just use them as a measure of quality."
   ],
   "metadata": {
    "collapsed": false
   }
  },
  {
   "cell_type": "markdown",
   "source": [
    "## Label Distribution\n",
    "There are 4 possible verdicts in the dataset: *not the asshole*, *asshole*, *no assholes here* and *everyone sucks*. The authors of the dataset also merge *no assholes here* into the *not the asshole* category and  *everyone sucks* into the *asshole* category. The distribution highly favors the *not the asshole* category (see the following graphs)."
   ],
   "metadata": {
    "collapsed": false
   }
  },
  {
   "cell_type": "code",
   "execution_count": 4,
   "outputs": [
    {
     "data": {
      "text/plain": "<Axes: xlabel='verdict'>"
     },
     "execution_count": 4,
     "metadata": {},
     "output_type": "execute_result"
    },
    {
     "data": {
      "text/plain": "<Figure size 640x480 with 1 Axes>",
      "image/png": "[encoded data removed]"
     },
     "metadata": {},
     "output_type": "display_data"
    }
   ],
   "source": [
    "aita_df[\"verdict\"].value_counts().plot(kind='bar')"
   ],
   "metadata": {
    "collapsed": false,
    "ExecuteTime": {
     "end_time": "2024-03-28T17:21:58.671588600Z",
     "start_time": "2024-03-28T17:21:57.161086600Z"
    }
   }
  },
  {
   "cell_type": "code",
   "execution_count": 5,
   "outputs": [
    {
     "data": {
      "text/plain": "<Axes: xlabel='is_asshole'>"
     },
     "execution_count": 5,
     "metadata": {},
     "output_type": "execute_result"
    },
    {
     "data": {
      "text/plain": "<Figure size 640x480 with 1 Axes>",
      "image/png": "[encoded data removed]"
     },
     "metadata": {},
     "output_type": "display_data"
    }
   ],
   "source": [
    "aita_df[\"is_asshole\"].value_counts().plot(kind='bar')"
   ],
   "metadata": {
    "collapsed": false,
    "ExecuteTime": {
     "end_time": "2024-03-28T17:21:58.852946400Z",
     "start_time": "2024-03-28T17:21:58.622940200Z"
    }
   }
  },
  {
   "cell_type": "markdown",
   "source": [
    "## Making category subsets\n",
    "We want high quality examples from each category in the dataset. For this purpose we will get the top n (sorted by score) examples for each category and manually select the ones to be used in the final dataset. Given the distribution, the aim is to have 15 each for *not the asshole* and *asshole* and 10 each for *no assholes here* and *everyone sucks here*."
   ],
   "metadata": {
    "collapsed": false
   }
  },
  {
   "cell_type": "code",
   "execution_count": 6,
   "outputs": [],
   "source": [
    "# make subsets\n",
    "grouped = aita_df.groupby(\"verdict\")\n",
    "\n",
    "subsets = {verdict: group for verdict, group in grouped}"
   ],
   "metadata": {
    "collapsed": false,
    "ExecuteTime": {
     "end_time": "2024-03-28T17:21:58.991245100Z",
     "start_time": "2024-03-28T17:21:58.843278400Z"
    }
   }
  },
  {
   "cell_type": "code",
   "execution_count": 7,
   "outputs": [],
   "source": [
    "aita_yta = subsets[\"asshole\"]\n",
    "aita_esh = subsets[\"everyone sucks\"]\n",
    "aita_nta = subsets[\"not the asshole\"]\n",
    "aita_nah = subsets[\"no assholes here\"]"
   ],
   "metadata": {
    "collapsed": false,
    "ExecuteTime": {
     "end_time": "2024-03-28T17:21:59.013170600Z",
     "start_time": "2024-03-28T17:21:58.883214Z"
    }
   }
  },
  {
   "cell_type": "code",
   "execution_count": 8,
   "outputs": [],
   "source": [
    "# sort by score and select top 50 examples\n",
    "aita_yta = aita_yta.sort_values(\"score\", ascending=False).head(50)\n",
    "aita_esh = aita_esh.sort_values(\"score\", ascending=False).head(50)\n",
    "aita_nta = aita_nta.sort_values(\"score\", ascending=False).head(50)\n",
    "aita_nah = aita_nah.sort_values(\"score\", ascending=False).head(50)"
   ],
   "metadata": {
    "collapsed": false,
    "ExecuteTime": {
     "end_time": "2024-03-28T17:21:59.055967300Z",
     "start_time": "2024-03-28T17:21:58.913241200Z"
    }
   }
  },
  {
   "cell_type": "code",
   "execution_count": 9,
   "outputs": [],
   "source": [
    "def content_to_json_file(df, path):\n",
    "    df_json = json.loads(df.to_json(orient=\"records\"))\n",
    "    with open(path, \"w\", encoding='utf-8') as f:\n",
    "        json.dump(df_json, f, indent=4, sort_keys=True)"
   ],
   "metadata": {
    "collapsed": false,
    "ExecuteTime": {
     "end_time": "2024-03-28T17:21:59.055967300Z",
     "start_time": "2024-03-28T17:21:59.001809300Z"
    }
   }
  },
  {
   "cell_type": "code",
   "execution_count": 10,
   "outputs": [],
   "source": [
    "content_to_json_file(aita_yta, \"data/yta_top_50.json\")\n",
    "content_to_json_file(aita_esh, \"data/esh_top_50.json\")\n",
    "content_to_json_file(aita_nta, \"data/nta_top_50.json\")\n",
    "content_to_json_file(aita_nah, \"data/nah_top_50.json\")"
   ],
   "metadata": {
    "collapsed": false,
    "ExecuteTime": {
     "end_time": "2024-03-28T17:21:59.091607800Z",
     "start_time": "2024-03-28T17:21:59.013170600Z"
    }
   }
  },
  {
   "cell_type": "markdown",
   "source": [
    "## Choosing the top posts\n",
    "The criteria for selecting posts are simple. The idea is to pick posts that do not require much or any editing and don't reference previous post or other external links."
   ],
   "metadata": {
    "collapsed": false
   }
  },
  {
   "cell_type": "code",
   "execution_count": null,
   "outputs": [],
   "source": [],
   "metadata": {
    "collapsed": false
   }
  }
 ],
 "metadata": {
  "kernelspec": {
   "display_name": "Python 3",
   "language": "python",
   "name": "python3"
  },
  "language_info": {
   "codemirror_mode": {
    "name": "ipython",
    "version": 2
   },
   "file_extension": ".py",
   "mimetype": "text/x-python",
   "name": "python",
   "nbconvert_exporter": "python",
   "pygments_lexer": "ipython2",
   "version": "2.7.6"
  }
 },
 "nbformat": 4,
 "nbformat_minor": 0
}
