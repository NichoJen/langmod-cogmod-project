{
 "cells": [
  {
   "cell_type": "code",
   "execution_count": 1,
   "metadata": {
    "collapsed": true,
    "ExecuteTime": {
     "end_time": "2024-04-07T13:53:48.389274600Z",
     "start_time": "2024-04-07T13:53:47.915541700Z"
    }
   },
   "outputs": [],
   "source": [
    "import json\n",
    "from collections import defaultdict"
   ]
  },
  {
   "cell_type": "code",
   "execution_count": 2,
   "outputs": [],
   "source": [
    "results_path_yes_no = \"results/results_yes_no.json\"\n",
    "results_path_aita = \"results/results_aita_prompt_1.json\""
   ],
   "metadata": {
    "collapsed": false,
    "ExecuteTime": {
     "end_time": "2024-04-07T13:53:48.440139700Z",
     "start_time": "2024-04-07T13:53:48.140938700Z"
    }
   }
  },
  {
   "cell_type": "code",
   "execution_count": 3,
   "outputs": [],
   "source": [
    "with open(results_path_yes_no) as f:\n",
    "  results_yes_no = json.load(f)"
   ],
   "metadata": {
    "collapsed": false,
    "ExecuteTime": {
     "end_time": "2024-04-07T13:53:48.441135900Z",
     "start_time": "2024-04-07T13:53:48.140938700Z"
    }
   }
  },
  {
   "cell_type": "code",
   "execution_count": 4,
   "outputs": [],
   "source": [
    "with open(results_path_aita) as f:\n",
    "  results_aita = json.load(f)"
   ],
   "metadata": {
    "collapsed": false,
    "ExecuteTime": {
     "end_time": "2024-04-07T13:53:48.441135900Z",
     "start_time": "2024-04-07T13:53:48.141937800Z"
    }
   }
  },
  {
   "cell_type": "code",
   "execution_count": 5,
   "outputs": [],
   "source": [
    "# make binary predictions\n",
    "asshole_outputs_yes_no = {\"yes.\", \"yes, the author is in the wrong.\"}\n",
    "asshole_outputs_aita = {\"asshole: yes\"}"
   ],
   "metadata": {
    "collapsed": false,
    "ExecuteTime": {
     "end_time": "2024-04-07T13:53:48.442134100Z",
     "start_time": "2024-04-07T13:53:48.141937800Z"
    }
   }
  },
  {
   "cell_type": "code",
   "execution_count": 6,
   "outputs": [],
   "source": [
    "def process_results(results, asshole_outputs):\n",
    "    results_bin_pred = []\n",
    "    for i, example in enumerate(results):\n",
    "        bin_pred = 0\n",
    "        print(example[\"aita_user_verdict\"])\n",
    "        print(example[\"prediction\"])\n",
    "        if example[\"prediction\"].strip().lower() in asshole_outputs:\n",
    "            bin_pred = 1\n",
    "        example[\"bin_pred\"] = bin_pred\n",
    "        results_bin_pred.append(example)\n",
    "    return results_bin_pred"
   ],
   "metadata": {
    "collapsed": false,
    "ExecuteTime": {
     "end_time": "2024-04-07T13:53:48.443131500Z",
     "start_time": "2024-04-07T13:53:48.142934Z"
    }
   }
  },
  {
   "cell_type": "code",
   "execution_count": 7,
   "outputs": [
    {
     "name": "stdout",
     "output_type": "stream",
     "text": [
      "asshole\n",
      " No, the girl was in the wrong.\n",
      "asshole\n",
      " No\n",
      "asshole\n",
      " no\n",
      "asshole\n",
      " No.\n",
      "asshole\n",
      " No.\n",
      "asshole\n",
      " No, you are not the asshole here. \n",
      "asshole\n",
      " No.\n",
      "asshole\n",
      " No, you were not in the wrong. Your date's reaction was unjustified and rude. You provided excellent service to your date and the waitress, and you were sincere in your compliments. Your date's response\n",
      "asshole\n",
      " No, the author is not in the wrong.\n",
      "asshole\n",
      " No.\n",
      "asshole\n",
      " No\n",
      "asshole\n",
      " No\n",
      "asshole\n",
      " No\n",
      "asshole\n",
      " Yes.\n",
      "asshole\n",
      " No, you were not the Asshole.\n",
      "not the asshole\n",
      " Yes.\n",
      "not the asshole\n",
      " No.\n",
      "not the asshole\n",
      " Yes, the author is in the wrong.\n",
      "not the asshole\n",
      " Yes.\n",
      "not the asshole\n",
      " Yes.\n",
      "not the asshole\n",
      " No, you were right to snap at her. She was being incredibly desperate and pathetic, and it's understandable that you would want to stand up for your boyfriend. It's important to communicate your boundaries and expectations\n",
      "not the asshole\n",
      " No.\n",
      "not the asshole\n",
      " No\n",
      "not the asshole\n",
      " No, the author is not in the wrong.\n",
      "not the asshole\n",
      " No, the author is not in the wrong. The author clearly stated their reasons for setting a lower rate for babysitting, which is a difficult and time-consuming task, especially for someone who is not experienced in childcare. The\n",
      "not the asshole\n",
      " No\n",
      "not the asshole\n",
      " No, the author is not in the wrong. The author has valid reasons for not wanting to visit their stepsister in the hospital, including their own emotional trauma and the fact that they don't want to be in a place that rem\n",
      "not the asshole\n",
      " No\n",
      "not the asshole\n",
      " No\n",
      "not the asshole\n",
      " No\n",
      "everyone sucks\n",
      " No\n",
      "everyone sucks\n",
      " No\n",
      "everyone sucks\n",
      " No.\n",
      "everyone sucks\n",
      " Yes.\n",
      "everyone sucks\n",
      " No.\n",
      "everyone sucks\n",
      " No, the author is not in the wrong. The author's reaction to Amy's comments was understandable and justified. Amy's comments were hurtful and disrespectful, and the author had every right to defend his girl\n",
      "everyone sucks\n",
      " No\n",
      "everyone sucks\n",
      " Yes.\n",
      "everyone sucks\n",
      " no\n",
      "everyone sucks\n",
      " No, the author is not in the wrong.\n",
      "no assholes here\n",
      " No\n",
      "no assholes here\n",
      " No\n",
      "no assholes here\n",
      " Yes.\n",
      "no assholes here\n",
      " Yes.\n",
      "no assholes here\n",
      " Yes.\n",
      "no assholes here\n",
      " No, you are not the asshole.\n",
      "no assholes here\n",
      " No.\n",
      "no assholes here\n",
      " No\n",
      "no assholes here\n",
      " No\n",
      "no assholes here\n",
      " No\n"
     ]
    }
   ],
   "source": [
    "results_yes_no_bin_pred = process_results(results_yes_no, asshole_outputs_yes_no)"
   ],
   "metadata": {
    "collapsed": false,
    "ExecuteTime": {
     "end_time": "2024-04-07T13:53:48.455098Z",
     "start_time": "2024-04-07T13:53:48.144930400Z"
    }
   }
  },
  {
   "cell_type": "code",
   "execution_count": 8,
   "outputs": [
    {
     "name": "stdout",
     "output_type": "stream",
     "text": [
      "asshole\n",
      " Asshole: Yes\n",
      "asshole\n",
      " Asshole: Yes\n",
      "asshole\n",
      " Asshole: Yes\n",
      "asshole\n",
      " Ass hole: No\n",
      "asshole\n",
      " Asshole: No\n",
      "asshole\n",
      " Ass hole: No\n",
      "asshole\n",
      " Asshole: No\n",
      "asshole\n",
      " Asshole: No\n",
      "asshole\n",
      " Asshole: No\n",
      "asshole\n",
      " Asshole: Yes\n",
      "asshole\n",
      " Assistant: I cannot provide a definitive answer to whether you were an asshole or not in this situation. However, I can offer some insights based on the information provided.\n",
      "\n",
      "It's important to recognize that asking someone if\n",
      "asshole\n",
      " Asshole: No\n",
      "asshole\n",
      " Asshole: No\n",
      "asshole\n",
      " Asshole: No\n",
      "asshole\n",
      " Asshole: No. \n",
      "\n",
      "You were not the asshole in this situation. You had a legitimate concern for the restaurant's responsibility to follow alcohol service laws and to ensure that underage drinking did not occur on\n",
      "not the asshole\n",
      " Asshole: No\n",
      "not the asshole\n",
      " Asshole: No\n",
      "not the asshole\n",
      " Asshole: No\n",
      "not the asshole\n",
      " Asshole: Yes\n",
      "not the asshole\n",
      " Asshole: No\n",
      "not the asshole\n",
      " Asshole: No\n",
      "not the asshole\n",
      " Asshole: No\n",
      "not the asshole\n",
      " Asshole: No\n",
      "not the asshole\n",
      " Asshole: Yes\n",
      "not the asshole\n",
      " Asshole: No\n",
      "not the asshole\n",
      " Asshole: No\n",
      "not the asshole\n",
      " Asshole: No. The writer is not being an asshole. They have valid reasons for not wanting to visit their stepsister in the hospital, including their own emotional trauma and the fact that they don't want to be\n",
      "not the asshole\n",
      " Asshole: No. The person writing the post is not the asshole in this situation. While the coworker's comments may have been intended as jokes or compliments, they are still body shaming and disrespect\n",
      "not the asshole\n",
      " Asshole: No\n",
      "not the asshole\n",
      " Asshole: No\n",
      "everyone sucks\n",
      " Asshole: No\n",
      "everyone sucks\n",
      " Asshole: Yes\n",
      "everyone sucks\n",
      " Asshole: Yes\n",
      "everyone sucks\n",
      " Asshole: No\n",
      "everyone sucks\n",
      " Asshole: No\n",
      "everyone sucks\n",
      " Asshole: Yes\n",
      "everyone sucks\n",
      " Asshole: No.\n",
      "\n",
      "It is not appropriate to call someone a \"megga asshole\" or to make personal attacks against them, especially based on their political beliefs or actions. Everyone has the right to their own\n",
      "everyone sucks\n",
      " Asshole: No. \n",
      "everyone sucks\n",
      " Asshole: No\n",
      "everyone sucks\n",
      " Asshole: No\n",
      "no assholes here\n",
      " Asshole: no\n",
      "no assholes here\n",
      " Asshole: Yes\n",
      "no assholes here\n",
      " Asshole: No\n",
      "no assholes here\n",
      " Asshole: No\n",
      "no assholes here\n",
      " Ass hole: No\n",
      "no assholes here\n",
      " Asshole: No.\n",
      "no assholes here\n",
      " Asshole: No\n",
      "no assholes here\n",
      " Asshole: No\n",
      "no assholes here\n",
      " Asshole: No\n",
      "no assholes here\n",
      " Asshole: No.\n",
      "\n",
      "This person is not an asshole. They are simply expressing their thoughts and feelings about the potential challenges and complexities of naming their child in a society where race and identity are deeply ingrained.\n"
     ]
    }
   ],
   "source": [
    "results_aita_bin_pred = process_results(results_aita, asshole_outputs_aita)"
   ],
   "metadata": {
    "collapsed": false,
    "ExecuteTime": {
     "end_time": "2024-04-07T13:53:48.457100Z",
     "start_time": "2024-04-07T13:53:48.145927100Z"
    }
   }
  },
  {
   "cell_type": "code",
   "execution_count": 9,
   "outputs": [],
   "source": [
    "# evaluation\n",
    "def evaluation(results):\n",
    "    counts = defaultdict(int)\n",
    "    counts_correct = defaultdict(int)\n",
    "    accuracies = defaultdict(int)\n",
    "\n",
    "\n",
    "    counts[\"overall\"] = 0\n",
    "    counts_correct[\"overall\"] = 0\n",
    "\n",
    "    for res in results:\n",
    "        counts[\"overall\"] += 1\n",
    "        counts[res[\"aita_user_verdict\"]] += 1\n",
    "        if res[\"is_asshole\"] == res[\"bin_pred\"]:\n",
    "            counts_correct[\"overall\"] += 1\n",
    "            counts_correct[res[\"aita_user_verdict\"]] += 1\n",
    "\n",
    "    for category in counts:\n",
    "        accuracies[category] = counts_correct[category] / counts[category]\n",
    "\n",
    "    return counts, counts_correct, accuracies\n"
   ],
   "metadata": {
    "collapsed": false,
    "ExecuteTime": {
     "end_time": "2024-04-07T13:53:48.457100Z",
     "start_time": "2024-04-07T13:53:48.146926100Z"
    }
   }
  },
  {
   "cell_type": "code",
   "execution_count": 10,
   "outputs": [
    {
     "data": {
      "text/plain": "(defaultdict(int,\n             {'overall': 50,\n              'asshole': 15,\n              'not the asshole': 15,\n              'everyone sucks': 10,\n              'no assholes here': 10}),\n defaultdict(int,\n             {'overall': 21,\n              'asshole': 1,\n              'not the asshole': 11,\n              'everyone sucks': 2,\n              'no assholes here': 7}),\n defaultdict(int,\n             {'overall': 0.42,\n              'asshole': 0.06666666666666667,\n              'not the asshole': 0.7333333333333333,\n              'everyone sucks': 0.2,\n              'no assholes here': 0.7}))"
     },
     "execution_count": 10,
     "metadata": {},
     "output_type": "execute_result"
    }
   ],
   "source": [
    "evaluation(results_yes_no_bin_pred)"
   ],
   "metadata": {
    "collapsed": false,
    "ExecuteTime": {
     "end_time": "2024-04-07T13:53:48.475045800Z",
     "start_time": "2024-04-07T13:53:48.147920800Z"
    }
   }
  },
  {
   "cell_type": "code",
   "execution_count": 11,
   "outputs": [
    {
     "data": {
      "text/plain": "(defaultdict(int,\n             {'overall': 50,\n              'asshole': 15,\n              'not the asshole': 15,\n              'everyone sucks': 10,\n              'no assholes here': 10}),\n defaultdict(int,\n             {'overall': 29,\n              'asshole': 4,\n              'not the asshole': 13,\n              'everyone sucks': 3,\n              'no assholes here': 9}),\n defaultdict(int,\n             {'overall': 0.58,\n              'asshole': 0.26666666666666666,\n              'not the asshole': 0.8666666666666667,\n              'everyone sucks': 0.3,\n              'no assholes here': 0.9}))"
     },
     "execution_count": 11,
     "metadata": {},
     "output_type": "execute_result"
    }
   ],
   "source": [
    "evaluation(results_aita_bin_pred)"
   ],
   "metadata": {
    "collapsed": false,
    "ExecuteTime": {
     "end_time": "2024-04-07T13:53:48.476042700Z",
     "start_time": "2024-04-07T13:53:48.148919800Z"
    }
   }
  },
  {
   "cell_type": "code",
   "execution_count": 12,
   "outputs": [],
   "source": [
    "from sklearn.metrics import precision_recall_fscore_support\n",
    "\n",
    "y_true = [res[\"is_asshole\"] for res in results_yes_no_bin_pred]\n",
    "\n",
    "y_pred_yes_no = [res[\"bin_pred\"] for res in results_yes_no_bin_pred]\n",
    "y_pred_aita = [res[\"bin_pred\"] for res in results_aita_bin_pred]"
   ],
   "metadata": {
    "collapsed": false,
    "ExecuteTime": {
     "end_time": "2024-04-07T13:53:51.178064900Z",
     "start_time": "2024-04-07T13:53:48.161884500Z"
    }
   }
  },
  {
   "cell_type": "code",
   "execution_count": 15,
   "outputs": [
    {
     "data": {
      "text/plain": "(0.3, 0.12, 0.17142857142857143, None)"
     },
     "execution_count": 15,
     "metadata": {},
     "output_type": "execute_result"
    }
   ],
   "source": [
    "precision_recall_fscore_support(y_true, y_pred_yes_no, average=\"binary\")"
   ],
   "metadata": {
    "collapsed": false,
    "ExecuteTime": {
     "end_time": "2024-04-07T13:55:35.677239100Z",
     "start_time": "2024-04-07T13:55:35.617393300Z"
    }
   }
  },
  {
   "cell_type": "code",
   "execution_count": 16,
   "outputs": [
    {
     "data": {
      "text/plain": "(0.7, 0.28, 0.4, None)"
     },
     "execution_count": 16,
     "metadata": {},
     "output_type": "execute_result"
    }
   ],
   "source": [
    "precision_recall_fscore_support(y_true, y_pred_aita, average=\"binary\")"
   ],
   "metadata": {
    "collapsed": false,
    "ExecuteTime": {
     "end_time": "2024-04-07T13:55:38.257450700Z",
     "start_time": "2024-04-07T13:55:38.134771Z"
    }
   }
  }
 ],
 "metadata": {
  "kernelspec": {
   "display_name": "Python 3",
   "language": "python",
   "name": "python3"
  },
  "language_info": {
   "codemirror_mode": {
    "name": "ipython",
    "version": 2
   },
   "file_extension": ".py",
   "mimetype": "text/x-python",
   "name": "python",
   "nbconvert_exporter": "python",
   "pygments_lexer": "ipython2",
   "version": "2.7.6"
  }
 },
 "nbformat": 4,
 "nbformat_minor": 0
}
