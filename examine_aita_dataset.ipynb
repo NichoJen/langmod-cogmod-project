{
 "cells": [
  {
   "cell_type": "code",
   "execution_count": 1,
   "outputs": [],
   "source": [
    "import pandas as pd\n",
    "import torch"
   ],
   "metadata": {
    "collapsed": false,
    "ExecuteTime": {
     "end_time": "2024-02-23T14:58:54.713750400Z",
     "start_time": "2024-02-23T14:58:28.876554400Z"
    }
   }
  },
  {
   "cell_type": "code",
   "execution_count": 25,
   "outputs": [],
   "source": [
    "dataset_path = \"D:/aita/aita_clean.csv\""
   ],
   "metadata": {
    "collapsed": false,
    "ExecuteTime": {
     "end_time": "2024-02-23T10:36:19.442208100Z",
     "start_time": "2024-02-23T10:36:19.305128700Z"
    }
   }
  },
  {
   "cell_type": "code",
   "execution_count": 26,
   "outputs": [
    {
     "data": {
      "text/plain": "       id   timestamp                                              title  \\\n0  arfcfl  1550365421                   AITA - Getting Hugged At The Bar   \n1  cg8mxn  1563769917  AITA if i don't want to pay my friend 5 dollar...   \n2  bajsje  1554663842  AITA For going to 'expensive' restaurants in s...   \n3  cq6voc  1565771883  AITA for wanting \"free gas\", due to an attenda...   \n4  bz4m2k  1560207411  AITA I asked my dad to replace the fuel that h...   \n\n                                                body        edited  \\\n0   \\n\\nThis all happened less than an hour ago.\\...         False   \n1  So, my friend bought herself, our other friend...         False   \n2  It's in Seattle if that matters. It seems peop...  1554686830.0   \n3  I was with my dad and driving the family car w...  1565773989.0   \n4  Am I the asshole for asking my dad to replace ...         False   \n\n           verdict  score  num_comments  is_asshole  \n0  not the asshole      3            14           0  \n1          asshole     11            42           1  \n2          asshole    657           397           1  \n3  not the asshole     49            40           0  \n4  not the asshole      4            10           0  ",
      "text/html": "<div>\n<style scoped>\n    .dataframe tbody tr th:only-of-type {\n        vertical-align: middle;\n    }\n\n    .dataframe tbody tr th {\n        vertical-align: top;\n    }\n\n    .dataframe thead th {\n        text-align: right;\n    }\n</style>\n<table border=\"1\" class=\"dataframe\">\n  <thead>\n    <tr style=\"text-align: right;\">\n      <th></th>\n      <th>id</th>\n      <th>timestamp</th>\n      <th>title</th>\n      <th>body</th>\n      <th>edited</th>\n      <th>verdict</th>\n      <th>score</th>\n      <th>num_comments</th>\n      <th>is_asshole</th>\n    </tr>\n  </thead>\n  <tbody>\n    <tr>\n      <th>0</th>\n      <td>arfcfl</td>\n      <td>1550365421</td>\n      <td>AITA - Getting Hugged At The Bar</td>\n      <td>\\n\\nThis all happened less than an hour ago.\\...</td>\n      <td>False</td>\n      <td>not the asshole</td>\n      <td>3</td>\n      <td>14</td>\n      <td>0</td>\n    </tr>\n    <tr>\n      <th>1</th>\n      <td>cg8mxn</td>\n      <td>1563769917</td>\n      <td>AITA if i don't want to pay my friend 5 dollar...</td>\n      <td>So, my friend bought herself, our other friend...</td>\n      <td>False</td>\n      <td>asshole</td>\n      <td>11</td>\n      <td>42</td>\n      <td>1</td>\n    </tr>\n    <tr>\n      <th>2</th>\n      <td>bajsje</td>\n      <td>1554663842</td>\n      <td>AITA For going to 'expensive' restaurants in s...</td>\n      <td>It's in Seattle if that matters. It seems peop...</td>\n      <td>1554686830.0</td>\n      <td>asshole</td>\n      <td>657</td>\n      <td>397</td>\n      <td>1</td>\n    </tr>\n    <tr>\n      <th>3</th>\n      <td>cq6voc</td>\n      <td>1565771883</td>\n      <td>AITA for wanting \"free gas\", due to an attenda...</td>\n      <td>I was with my dad and driving the family car w...</td>\n      <td>1565773989.0</td>\n      <td>not the asshole</td>\n      <td>49</td>\n      <td>40</td>\n      <td>0</td>\n    </tr>\n    <tr>\n      <th>4</th>\n      <td>bz4m2k</td>\n      <td>1560207411</td>\n      <td>AITA I asked my dad to replace the fuel that h...</td>\n      <td>Am I the asshole for asking my dad to replace ...</td>\n      <td>False</td>\n      <td>not the asshole</td>\n      <td>4</td>\n      <td>10</td>\n      <td>0</td>\n    </tr>\n  </tbody>\n</table>\n</div>"
     },
     "execution_count": 26,
     "metadata": {},
     "output_type": "execute_result"
    }
   ],
   "source": [
    "aita_df = pd.read_csv(dataset_path, encoding='utf8')\n",
    "aita_df.head()"
   ],
   "metadata": {
    "collapsed": false,
    "ExecuteTime": {
     "end_time": "2024-02-23T10:36:20.032339700Z",
     "start_time": "2024-02-23T10:36:19.332225500Z"
    }
   }
  },
  {
   "cell_type": "code",
   "execution_count": 27,
   "outputs": [
    {
     "name": "stdout",
     "output_type": "stream",
     "text": [
      "nan body count:  7\n"
     ]
    }
   ],
   "source": [
    "# replace nan values in body with empty string\n",
    "print(\"nan body count: \", aita_df.body.isna().sum())\n",
    "aita_df.body = aita_df.body.fillna(\"\")"
   ],
   "metadata": {
    "collapsed": false,
    "ExecuteTime": {
     "end_time": "2024-02-23T10:36:20.147117100Z",
     "start_time": "2024-02-23T10:36:20.039384600Z"
    }
   }
  },
  {
   "cell_type": "code",
   "execution_count": 28,
   "outputs": [],
   "source": [
    "# remove \\n from body\n",
    "#aita_df.body = aita_df.body.str.replace(\"\\n\", \" \")"
   ],
   "metadata": {
    "collapsed": false,
    "ExecuteTime": {
     "end_time": "2024-02-23T10:36:20.147117100Z",
     "start_time": "2024-02-23T10:36:20.080070100Z"
    }
   }
  },
  {
   "cell_type": "code",
   "execution_count": 29,
   "outputs": [
    {
     "data": {
      "text/plain": "       id   timestamp                                              title  \\\n0  arfcfl  1550365421                   AITA - Getting Hugged At The Bar   \n1  cg8mxn  1563769917  AITA if i don't want to pay my friend 5 dollar...   \n2  bajsje  1554663842  AITA For going to 'expensive' restaurants in s...   \n3  cq6voc  1565771883  AITA for wanting \"free gas\", due to an attenda...   \n4  bz4m2k  1560207411  AITA I asked my dad to replace the fuel that h...   \n\n                                                body        edited  \\\n0   \\n\\nThis all happened less than an hour ago.\\...         False   \n1  So, my friend bought herself, our other friend...         False   \n2  It's in Seattle if that matters. It seems peop...  1554686830.0   \n3  I was with my dad and driving the family car w...  1565773989.0   \n4  Am I the asshole for asking my dad to replace ...         False   \n\n           verdict  score  num_comments  is_asshole  title_word_count  \\\n0  not the asshole      3            14           0                 7   \n1          asshole     11            42           1                16   \n2          asshole    657           397           1                12   \n3  not the asshole     49            40           0                10   \n4  not the asshole      4            10           0                17   \n\n   body_word_count  \n0              368  \n1               66  \n2              157  \n3              342  \n4              519  ",
      "text/html": "<div>\n<style scoped>\n    .dataframe tbody tr th:only-of-type {\n        vertical-align: middle;\n    }\n\n    .dataframe tbody tr th {\n        vertical-align: top;\n    }\n\n    .dataframe thead th {\n        text-align: right;\n    }\n</style>\n<table border=\"1\" class=\"dataframe\">\n  <thead>\n    <tr style=\"text-align: right;\">\n      <th></th>\n      <th>id</th>\n      <th>timestamp</th>\n      <th>title</th>\n      <th>body</th>\n      <th>edited</th>\n      <th>verdict</th>\n      <th>score</th>\n      <th>num_comments</th>\n      <th>is_asshole</th>\n      <th>title_word_count</th>\n      <th>body_word_count</th>\n    </tr>\n  </thead>\n  <tbody>\n    <tr>\n      <th>0</th>\n      <td>arfcfl</td>\n      <td>1550365421</td>\n      <td>AITA - Getting Hugged At The Bar</td>\n      <td>\\n\\nThis all happened less than an hour ago.\\...</td>\n      <td>False</td>\n      <td>not the asshole</td>\n      <td>3</td>\n      <td>14</td>\n      <td>0</td>\n      <td>7</td>\n      <td>368</td>\n    </tr>\n    <tr>\n      <th>1</th>\n      <td>cg8mxn</td>\n      <td>1563769917</td>\n      <td>AITA if i don't want to pay my friend 5 dollar...</td>\n      <td>So, my friend bought herself, our other friend...</td>\n      <td>False</td>\n      <td>asshole</td>\n      <td>11</td>\n      <td>42</td>\n      <td>1</td>\n      <td>16</td>\n      <td>66</td>\n    </tr>\n    <tr>\n      <th>2</th>\n      <td>bajsje</td>\n      <td>1554663842</td>\n      <td>AITA For going to 'expensive' restaurants in s...</td>\n      <td>It's in Seattle if that matters. It seems peop...</td>\n      <td>1554686830.0</td>\n      <td>asshole</td>\n      <td>657</td>\n      <td>397</td>\n      <td>1</td>\n      <td>12</td>\n      <td>157</td>\n    </tr>\n    <tr>\n      <th>3</th>\n      <td>cq6voc</td>\n      <td>1565771883</td>\n      <td>AITA for wanting \"free gas\", due to an attenda...</td>\n      <td>I was with my dad and driving the family car w...</td>\n      <td>1565773989.0</td>\n      <td>not the asshole</td>\n      <td>49</td>\n      <td>40</td>\n      <td>0</td>\n      <td>10</td>\n      <td>342</td>\n    </tr>\n    <tr>\n      <th>4</th>\n      <td>bz4m2k</td>\n      <td>1560207411</td>\n      <td>AITA I asked my dad to replace the fuel that h...</td>\n      <td>Am I the asshole for asking my dad to replace ...</td>\n      <td>False</td>\n      <td>not the asshole</td>\n      <td>4</td>\n      <td>10</td>\n      <td>0</td>\n      <td>17</td>\n      <td>519</td>\n    </tr>\n  </tbody>\n</table>\n</div>"
     },
     "execution_count": 29,
     "metadata": {},
     "output_type": "execute_result"
    }
   ],
   "source": [
    "# get title and body word counts\n",
    "word_count = lambda text: len(text.split())\n",
    "aita_df[\"title_word_count\"] = aita_df[\"title\"].apply(word_count)\n",
    "aita_df[\"body_word_count\"] = aita_df[\"body\"].apply(word_count)\n",
    "aita_df.head()"
   ],
   "metadata": {
    "collapsed": false,
    "ExecuteTime": {
     "end_time": "2024-02-23T10:36:20.552217400Z",
     "start_time": "2024-02-23T10:36:20.087103500Z"
    }
   }
  },
  {
   "cell_type": "code",
   "execution_count": 37,
   "outputs": [
    {
     "data": {
      "text/plain": "id                                                             arfcfl\ntimestamp                                                  1550365421\ntitle                                AITA - Getting Hugged At The Bar\nbody                 \\n\\nThis all happened less than an hour ago.\\...\nedited                                                          False\nverdict                                               not the asshole\nscore                                                               3\nnum_comments                                                       14\nis_asshole                                                          0\ntitle_word_count                                                    7\nbody_word_count                                                   368\nName: 0, dtype: object"
     },
     "execution_count": 37,
     "metadata": {},
     "output_type": "execute_result"
    }
   ],
   "source": [
    "ex1 = aita_df.iloc[0]\n",
    "ex2 = aita_df.iloc[1]\n",
    "ex1"
   ],
   "metadata": {
    "collapsed": false,
    "ExecuteTime": {
     "end_time": "2024-02-23T10:45:17.133042300Z",
     "start_time": "2024-02-23T10:45:17.097728900Z"
    }
   }
  },
  {
   "cell_type": "code",
   "execution_count": 38,
   "outputs": [
    {
     "data": {
      "text/plain": "' \\n\\nThis all happened less than an hour ago.\\n\\nI was at a bar I frequent and talking to some people I know, suddenly I feel someone from behind me hugging and starting to grind against me. I know a lot of people at the bar, and assume it\\'s a friend of mine, but when I look down at the shoes I do not recognize them. I look back and I see a dude I do not know, nor have I ever seen. He looks back at me, with horror in his eyes, because I\\'m a dude too... I feel an urge of rage inside me and shove him in the chest with my elbow so I can get away.\\n\\nHe goes to his table and I go back to mine. I was with my roommate and his girlfriend. They asked what happened and I told them, then I see the guy who hugged me looking around for me. Him and two of his friends come up to us and he says:  \\n\"I just wanted to apologize, I thought you were someone else.\"\\n\\nI respond, \"I understand, just check before you hug people. Now, please fuck off\"\\n\\nHe repeats his last statement, so do I. This happens one more time and at this point his friends have surrounded me, my roommate is on his feet and I have left my beer at the table. His friend goes in my face and says.  \\n\"He just wanted to apologize, you really shouldn\\'t be yelling at us\" and starts waiving his finger at me.\\n\\nWe are at a rock bar, it\\'s loud, I was speaking louder just to be sure I am heard.\\n\\nThe manager knows me so he comes asking me what happened. I explain the situation and he speaks with them then he tells me.  \\n\"They want to say sorry, can you guys shake hand?\"\\n\\n\"Yeah sure, I just want them to leave me alone.\"  \\nHonestly I didn\\'t even want to touch the guy, but whatever. We shake hands and they go away.\\n\\nMe and my roommate look at their table and there\\'s no one that looks anything like me. So, reddit, did I overreact? Am I The Asshole here?'"
     },
     "execution_count": 38,
     "metadata": {},
     "output_type": "execute_result"
    }
   ],
   "source": [
    "ex1.body"
   ],
   "metadata": {
    "collapsed": false,
    "ExecuteTime": {
     "end_time": "2024-02-23T10:45:18.222805900Z",
     "start_time": "2024-02-23T10:45:18.176729600Z"
    }
   }
  },
  {
   "cell_type": "code",
   "execution_count": 40,
   "outputs": [
    {
     "data": {
      "text/plain": "id                                                             cg8mxn\ntimestamp                                                  1563769917\ntitle               AITA if i don't want to pay my friend 5 dollar...\nbody                So, my friend bought herself, our other friend...\nedited                                                          False\nverdict                                                       asshole\nscore                                                              11\nnum_comments                                                       42\nis_asshole                                                          1\ntitle_word_count                                                   16\nbody_word_count                                                    66\nName: 1, dtype: object"
     },
     "execution_count": 40,
     "metadata": {},
     "output_type": "execute_result"
    }
   ],
   "source": [
    "ex2"
   ],
   "metadata": {
    "collapsed": false,
    "ExecuteTime": {
     "end_time": "2024-02-23T10:47:57.789339600Z",
     "start_time": "2024-02-23T10:47:57.744928600Z"
    }
   }
  },
  {
   "cell_type": "code",
   "execution_count": 41,
   "outputs": [],
   "source": [
    "with open(\"prompts/\" + str(ex2.id) + \".txt\", \"w\") as f:\n",
    "    f.write(ex2.body)"
   ],
   "metadata": {
    "collapsed": false,
    "ExecuteTime": {
     "end_time": "2024-02-23T11:02:02.122831700Z",
     "start_time": "2024-02-23T11:02:02.072706800Z"
    }
   }
  },
  {
   "cell_type": "code",
   "execution_count": 42,
   "outputs": [],
   "source": [
    "with open(\"prompts/\" + str(ex1.id) + \".txt\", \"w\") as f:\n",
    "    f.write(ex1.body)"
   ],
   "metadata": {
    "collapsed": false,
    "ExecuteTime": {
     "end_time": "2024-02-23T11:02:22.480798800Z",
     "start_time": "2024-02-23T11:02:22.444062700Z"
    }
   }
  },
  {
   "cell_type": "code",
   "execution_count": 33,
   "outputs": [
    {
     "data": {
      "text/plain": "          timestamp         score  num_comments    is_asshole  \\\ncount  1.000000e+04  10000.000000  10000.000000  10000.000000   \nmean   1.558404e+09    294.338700     86.674300      0.259300   \nstd    1.903894e+07   1746.261561    319.462981      0.438272   \nmin    1.393285e+09      3.000000      1.000000      0.000000   \n25%    1.555375e+09      5.000000     14.000000      0.000000   \n50%    1.562022e+09     10.000000     23.000000      0.000000   \n75%    1.567390e+09     39.000000     46.000000      1.000000   \nmax    1.580435e+09  43456.000000  10491.000000      1.000000   \n\n       title_word_count  body_word_count  \ncount      10000.000000     10000.000000  \nmean          12.123500       331.320700  \nstd            4.845183       166.991931  \nmin            1.000000         0.000000  \n25%            9.000000       203.000000  \n50%           11.000000       307.000000  \n75%           14.000000       447.000000  \nmax           60.000000      2352.000000  ",
      "text/html": "<div>\n<style scoped>\n    .dataframe tbody tr th:only-of-type {\n        vertical-align: middle;\n    }\n\n    .dataframe tbody tr th {\n        vertical-align: top;\n    }\n\n    .dataframe thead th {\n        text-align: right;\n    }\n</style>\n<table border=\"1\" class=\"dataframe\">\n  <thead>\n    <tr style=\"text-align: right;\">\n      <th></th>\n      <th>timestamp</th>\n      <th>score</th>\n      <th>num_comments</th>\n      <th>is_asshole</th>\n      <th>title_word_count</th>\n      <th>body_word_count</th>\n    </tr>\n  </thead>\n  <tbody>\n    <tr>\n      <th>count</th>\n      <td>1.000000e+04</td>\n      <td>10000.000000</td>\n      <td>10000.000000</td>\n      <td>10000.000000</td>\n      <td>10000.000000</td>\n      <td>10000.000000</td>\n    </tr>\n    <tr>\n      <th>mean</th>\n      <td>1.558404e+09</td>\n      <td>294.338700</td>\n      <td>86.674300</td>\n      <td>0.259300</td>\n      <td>12.123500</td>\n      <td>331.320700</td>\n    </tr>\n    <tr>\n      <th>std</th>\n      <td>1.903894e+07</td>\n      <td>1746.261561</td>\n      <td>319.462981</td>\n      <td>0.438272</td>\n      <td>4.845183</td>\n      <td>166.991931</td>\n    </tr>\n    <tr>\n      <th>min</th>\n      <td>1.393285e+09</td>\n      <td>3.000000</td>\n      <td>1.000000</td>\n      <td>0.000000</td>\n      <td>1.000000</td>\n      <td>0.000000</td>\n    </tr>\n    <tr>\n      <th>25%</th>\n      <td>1.555375e+09</td>\n      <td>5.000000</td>\n      <td>14.000000</td>\n      <td>0.000000</td>\n      <td>9.000000</td>\n      <td>203.000000</td>\n    </tr>\n    <tr>\n      <th>50%</th>\n      <td>1.562022e+09</td>\n      <td>10.000000</td>\n      <td>23.000000</td>\n      <td>0.000000</td>\n      <td>11.000000</td>\n      <td>307.000000</td>\n    </tr>\n    <tr>\n      <th>75%</th>\n      <td>1.567390e+09</td>\n      <td>39.000000</td>\n      <td>46.000000</td>\n      <td>1.000000</td>\n      <td>14.000000</td>\n      <td>447.000000</td>\n    </tr>\n    <tr>\n      <th>max</th>\n      <td>1.580435e+09</td>\n      <td>43456.000000</td>\n      <td>10491.000000</td>\n      <td>1.000000</td>\n      <td>60.000000</td>\n      <td>2352.000000</td>\n    </tr>\n  </tbody>\n</table>\n</div>"
     },
     "execution_count": 33,
     "metadata": {},
     "output_type": "execute_result"
    }
   ],
   "source": [
    "aita_df.describe()"
   ],
   "metadata": {
    "collapsed": false,
    "ExecuteTime": {
     "end_time": "2024-02-23T10:36:20.932038300Z",
     "start_time": "2024-02-23T10:36:20.692320400Z"
    }
   }
  },
  {
   "cell_type": "code",
   "execution_count": 34,
   "outputs": [
    {
     "name": "stdout",
     "output_type": "stream",
     "text": [
      "<class 'pandas.core.frame.DataFrame'>\n",
      "RangeIndex: 10000 entries, 0 to 9999\n",
      "Data columns (total 11 columns):\n",
      " #   Column            Non-Null Count  Dtype \n",
      "---  ------            --------------  ----- \n",
      " 0   id                10000 non-null  object\n",
      " 1   timestamp         10000 non-null  int64 \n",
      " 2   title             10000 non-null  object\n",
      " 3   body              10000 non-null  object\n",
      " 4   edited            10000 non-null  object\n",
      " 5   verdict           10000 non-null  object\n",
      " 6   score             10000 non-null  int64 \n",
      " 7   num_comments      10000 non-null  int64 \n",
      " 8   is_asshole        10000 non-null  int64 \n",
      " 9   title_word_count  10000 non-null  int64 \n",
      " 10  body_word_count   10000 non-null  int64 \n",
      "dtypes: int64(6), object(5)\n",
      "memory usage: 859.5+ KB\n"
     ]
    }
   ],
   "source": [
    "aita_df.info()"
   ],
   "metadata": {
    "collapsed": false,
    "ExecuteTime": {
     "end_time": "2024-02-23T10:36:20.937044900Z",
     "start_time": "2024-02-23T10:36:20.717420Z"
    }
   }
  },
  {
   "cell_type": "code",
   "execution_count": 35,
   "outputs": [
    {
     "data": {
      "text/plain": "verdict\nnot the asshole     6119\nasshole             1988\nno assholes here    1288\neveryone sucks       605\nName: count, dtype: int64"
     },
     "execution_count": 35,
     "metadata": {},
     "output_type": "execute_result"
    }
   ],
   "source": [
    "aita_df.verdict.value_counts()"
   ],
   "metadata": {
    "collapsed": false,
    "ExecuteTime": {
     "end_time": "2024-02-23T10:36:20.937044900Z",
     "start_time": "2024-02-23T10:36:20.782022200Z"
    }
   }
  }
 ],
 "metadata": {
  "kernelspec": {
   "display_name": "Python 3",
   "language": "python",
   "name": "python3"
  },
  "language_info": {
   "codemirror_mode": {
    "name": "ipython",
    "version": 2
   },
   "file_extension": ".py",
   "mimetype": "text/x-python",
   "name": "python",
   "nbconvert_exporter": "python",
   "pygments_lexer": "ipython2",
   "version": "2.7.6"
  }
 },
 "nbformat": 4,
 "nbformat_minor": 0
}
